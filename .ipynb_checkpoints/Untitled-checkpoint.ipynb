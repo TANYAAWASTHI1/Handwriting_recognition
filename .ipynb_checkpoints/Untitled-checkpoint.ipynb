{
 "cells": [
  {
   "cell_type": "code",
   "execution_count": 1,
   "id": "524acdfd-d2b5-4f01-bce9-dac51233413c",
   "metadata": {},
   "outputs": [],
   "source": [
    "import matplotlib"
   ]
  },
  {
   "cell_type": "code",
   "execution_count": 6,
   "id": "03aa76d9-6600-4b95-b078-f562c6f852e1",
   "metadata": {},
   "outputs": [],
   "source": [
    "import pandas"
   ]
  },
  {
   "cell_type": "code",
   "execution_count": 15,
   "id": "5e74e395-5761-44c4-a667-8a72a24f60cd",
   "metadata": {},
   "outputs": [
    {
     "name": "stdout",
     "output_type": "stream",
     "text": [
      "Requirement already satisfied: numpy in c:\\users\\hp\\appdata\\local\\programs\\python\\python312\\lib\\site-packages (1.26.3)\n"
     ]
    }
   ],
   "source": [
    "!pip install numpy\n",
    "\n"
   ]
  },
  {
   "cell_type": "code",
   "execution_count": 24,
   "id": "0072206e-0295-4d04-bd73-0b157bee8f1e",
   "metadata": {},
   "outputs": [],
   "source": [
    "import numpy\n"
   ]
  },
  {
   "cell_type": "code",
   "execution_count": 29,
   "id": "1aec0f68-6acc-4ba9-8307-963eb4df5ac0",
   "metadata": {},
   "outputs": [],
   "source": [
    "import sklearn"
   ]
  },
  {
   "cell_type": "code",
   "execution_count": 1,
   "id": "9e69dcd1-8743-4370-8a1f-ea8cc43bf4db",
   "metadata": {},
   "outputs": [],
   "source": [
    "import os"
   ]
  },
  {
   "cell_type": "code",
   "execution_count": 2,
   "id": "413ceb12-73a0-4e94-8625-9967b317881b",
   "metadata": {},
   "outputs": [],
   "source": [
    "import random\n"
   ]
  },
  {
   "cell_type": "code",
   "execution_count": 3,
   "id": "8acaca7f-a7f9-44e5-824e-9147c7d561fd",
   "metadata": {},
   "outputs": [],
   "source": [
    "import shutil"
   ]
  },
  {
   "cell_type": "code",
   "execution_count": 5,
   "id": "a4c1ecd0-9fb4-4184-90bd-e816df21db97",
   "metadata": {},
   "outputs": [
    {
     "name": "stdout",
     "output_type": "stream",
     "text": [
      "Collecting tqdmNote: you may need to restart the kernel to use updated packages.\n",
      "\n",
      "  Downloading tqdm-4.66.1-py3-none-any.whl.metadata (57 kB)\n",
      "     ---------------------------------------- 0.0/57.6 kB ? eta -:--:--\n",
      "     -------------- ------------------------- 20.5/57.6 kB ? eta -:--:--\n",
      "     -------------- ------------------------- 20.5/57.6 kB ? eta -:--:--\n",
      "     -------------- ------------------------- 20.5/57.6 kB ? eta -:--:--\n",
      "     -------------- ------------------------- 20.5/57.6 kB ? eta -:--:--\n",
      "     -------------- ------------------------- 20.5/57.6 kB ? eta -:--:--\n",
      "     -------------- ------------------------- 20.5/57.6 kB ? eta -:--:--\n",
      "     -------------- ------------------------- 20.5/57.6 kB ? eta -:--:--\n",
      "     -------------- ------------------------- 20.5/57.6 kB ? eta -:--:--\n",
      "     --------------------------------- ---- 51.2/57.6 kB 113.8 kB/s eta 0:00:01\n",
      "     --------------------------------- ---- 51.2/57.6 kB 113.8 kB/s eta 0:00:01\n",
      "     --------------------------------- ---- 51.2/57.6 kB 113.8 kB/s eta 0:00:01\n",
      "     --------------------------------------- 57.6/57.6 kB 94.7 kB/s eta 0:00:00\n",
      "Requirement already satisfied: colorama in c:\\users\\hp\\appdata\\local\\programs\\python\\python312\\lib\\site-packages (from tqdm) (0.4.6)\n",
      "Downloading tqdm-4.66.1-py3-none-any.whl (78 kB)\n",
      "   ---------------------------------------- 0.0/78.3 kB ? eta -:--:--\n",
      "   ---------------------------------------- 0.0/78.3 kB ? eta -:--:--\n",
      "   ---------------------------------------- 0.0/78.3 kB ? eta -:--:--\n",
      "   ----- ---------------------------------- 10.2/78.3 kB ? eta -:--:--\n",
      "   --------------- ------------------------ 30.7/78.3 kB 262.6 kB/s eta 0:00:01\n",
      "   -------------------- ------------------- 41.0/78.3 kB 281.8 kB/s eta 0:00:01\n",
      "   ------------------------------------ --- 71.7/78.3 kB 438.9 kB/s eta 0:00:01\n",
      "   ---------------------------------------- 78.3/78.3 kB 363.7 kB/s eta 0:00:00\n",
      "Installing collected packages: tqdm\n",
      "Successfully installed tqdm-4.66.1\n"
     ]
    }
   ],
   "source": [
    "pip install tqdm"
   ]
  },
  {
   "cell_type": "code",
   "execution_count": 6,
   "id": "860ab40e-ccb6-47ec-b917-3c73b4df1803",
   "metadata": {},
   "outputs": [],
   "source": [
    "from tqdm.notebook import tqdm"
   ]
  },
  {
   "cell_type": "code",
   "execution_count": 1,
   "id": "19e138fc-b4d5-4479-ab93-0b8e865a50e7",
   "metadata": {},
   "outputs": [],
   "source": [
    "import numpy as np\n",
    "import pandas as pd\n",
    "import matplotlib.pyplot as plt\n",
    "from sklearn.linear_model import LogisticRegression\n",
    "from sklearn.model_selection import train_test_split\n",
    "from sklearn.metrics import accuracy_score"
   ]
  },
  {
   "cell_type": "code",
   "execution_count": 50,
   "id": "33c570f9-5eb3-45e7-9026-7bf601e2113e",
   "metadata": {},
   "outputs": [
    {
     "name": "stdout",
     "output_type": "stream",
     "text": [
      "['character_10_yna', 'character_11_taamatar', 'character_12_thaa']\n",
      "0\n"
     ]
    }
   ],
   "source": [
    "import os\n",
    "\n",
    "path = \"DevanagariHandwrittenCharacterDataset/Train/\"\n",
    "files = os.listdir(path)[:3]\n",
    "print(files)\n",
    "\n",
    "classes={'character_1_ka':0,'character_2_kha':1,'character_3_ga':2}\n",
    "print(classes['character_1_ka'])"
   ]
  },
  {
   "cell_type": "code",
   "execution_count": 54,
   "id": "73216281-aa9a-423b-81d1-93a28951e47b",
   "metadata": {},
   "outputs": [
    {
     "name": "stdout",
     "output_type": "stream",
     "text": [
      "dataset created successfully\n"
     ]
    }
   ],
   "source": [
    "import cv2\n",
    "X=[]\n",
    "Y=[]\n",
    "# loop in dictionary\n",
    "for cl in classes:  \n",
    "    # print(cl)\n",
    "    pth = path+cl\n",
    "    # print(pth)\n",
    "    for img_name in os.listdir(pth):\n",
    "        # print(img_name)\n",
    "        img=cv2.imread(pth+\"/\"+img_name,0)\n",
    "        X.append(img)\n",
    "        # print(cl)\n",
    "        Y.append(classes[cl])\n",
    "print(\"dataset created successfully\")"
   ]
  },
  {
   "cell_type": "code",
   "execution_count": 55,
   "id": "432b81bb-43ae-4c75-8b6e-16aa702ab39c",
   "metadata": {},
   "outputs": [
    {
     "data": {
      "text/plain": [
       "0    1700\n",
       "1    1700\n",
       "2    1700\n",
       "Name: count, dtype: int64"
      ]
     },
     "execution_count": 55,
     "metadata": {},
     "output_type": "execute_result"
    }
   ],
   "source": [
    "pd.Series(Y).value_counts()"
   ]
  },
  {
   "cell_type": "code",
   "execution_count": 56,
   "id": "db864211-25bc-42ed-bff0-77ff828dee0b",
   "metadata": {},
   "outputs": [
    {
     "data": {
      "text/plain": [
       "(32, 32)"
      ]
     },
     "execution_count": 56,
     "metadata": {},
     "output_type": "execute_result"
    }
   ],
   "source": [
    "X[0].shape"
   ]
  },
  {
   "cell_type": "code",
   "execution_count": 57,
   "id": "1d03c502-4db1-44a1-a20b-d49756158097",
   "metadata": {},
   "outputs": [
    {
     "name": "stdout",
     "output_type": "stream",
     "text": [
      "<class 'list'>\n",
      "<class 'numpy.ndarray'>\n"
     ]
    }
   ],
   "source": [
    "print(type(X))\n",
    "X=np.array(X)\n",
    "Y=np.array(Y)\n",
    "print(type(X))"
   ]
  },
  {
   "cell_type": "code",
   "execution_count": 64,
   "id": "8cb5615d-691e-4244-9251-ab4b153a8336",
   "metadata": {},
   "outputs": [
    {
     "name": "stdout",
     "output_type": "stream",
     "text": [
      "0\n"
     ]
    },
    {
     "data": {
      "image/png": "[encoded data removed]",
      "text/plain": [
       "<Figure size 640x480 with 1 Axes>"
      ]
     },
     "metadata": {},
     "output_type": "display_data"
    }
   ],
   "source": [
    "# ANALYZE DATA\n",
    "plt.imshow(X[1000],cmap=\"gray\")\n",
    "print(Y[1000])\n"
   ]
  }
 ],
 "metadata": {
  "kernelspec": {
   "display_name": "Python 3 (ipykernel)",
   "language": "python",
   "name": "python3"
  },
  "language_info": {
   "codemirror_mode": {
    "name": "ipython",
    "version": 3
   },
   "file_extension": ".py",
   "mimetype": "text/x-python",
   "name": "python",
   "nbconvert_exporter": "python",
   "pygments_lexer": "ipython3",
   "version": "3.12.1"
  }
 },
 "nbformat": 4,
 "nbformat_minor": 5
}
