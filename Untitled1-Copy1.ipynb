{
 "cells": [
  {
   "cell_type": "code",
   "execution_count": 1,
   "id": "ac94275a-5403-4794-a26d-bea1e5fad5fb",
   "metadata": {},
   "outputs": [],
   "source": [
    "import os"
   ]
  },
  {
   "cell_type": "code",
   "execution_count": 2,
   "id": "30f6b07f-d3e1-4bcb-8449-0b6b0098aee0",
   "metadata": {},
   "outputs": [],
   "source": [
    "import matplotlib.pyplot as plt\n",
    "from matplotlib.font_manager import FontProperties"
   ]
  },
  {
   "cell_type": "code",
   "execution_count": 3,
   "id": "96c239c9-7338-43d7-acef-10b77c7eab39",
   "metadata": {},
   "outputs": [],
   "source": [
    "import random"
   ]
  },
  {
   "cell_type": "code",
   "execution_count": 4,
   "id": "cf4bc279-8ae8-45c7-9b0b-ed81c04606c3",
   "metadata": {},
   "outputs": [],
   "source": [
    "import numpy as np\n",
    "import pandas as pd"
   ]
  },
  {
   "cell_type": "code",
   "execution_count": 5,
   "id": "effea48b-ef24-47b8-ad9e-4d7d3308e0bc",
   "metadata": {},
   "outputs": [],
   "source": [
    "import cv2"
   ]
  },
  {
   "cell_type": "code",
   "execution_count": 6,
   "id": "54db91e5-bee3-4789-b290-394c01b88be5",
   "metadata": {},
   "outputs": [],
   "source": [
    "from tqdm.notebook import tqdm\n",
    "from sklearn.metrics import accuracy_score"
   ]
  },
  {
   "cell_type": "code",
   "execution_count": 7,
   "id": "c6625fe7-0c9e-4ce6-b1ea-ce999a328559",
   "metadata": {},
   "outputs": [],
   "source": [
    "class_names='''character_1_ka character_2_kha character_3_ga character_4_gha character_5_kna character_6_cha character_7_chha \n",
    "character_8_ja character_9_jha character_10_yna character_11_taamatar character_12_thaa character_13_daa character_14_dhaa \n",
    "character_15_adna character_16_tabala character_17_tha character_18_da character_19_dha character_20_na character_21_pa \n",
    "character_22_pha character_23_ba character_24_bha character_25_ma character_26_yaw character_27_ra character_28_la \n",
    "character_29_waw character_30_motosaw character_31_petchiryakha character_32_patalosaw character_33_ha character_34_chhya \n",
    "character_35_tra character_36_gya digit_0 digit_1 digit_2 digit_3 digit_4 digit_5 digit_6 digit_7 digit_8 digit_9'''.split()"
   ]
  },
  {
   "cell_type": "code",
   "execution_count": 8,
   "id": "574d79d8-a4ff-40a9-91f4-856ccb654dd0",
   "metadata": {},
   "outputs": [],
   "source": [
    "hindi_character = 'क ख ग घ ङ च छ ज झ ञ ट ठ ड ढ ण त थ द ध न प फ ब भ म य र ल व श ष स ह ॠ त्र ज्ञ ० १ २ ३ ४ ५ ६ ७ ८ ९'.split()   "
   ]
  },
  {
   "cell_type": "code",
   "execution_count": 9,
   "id": "bf2cb0a8-3e80-4f3e-b907-f6a8778e6808",
   "metadata": {},
   "outputs": [
    {
     "name": "stdout",
     "output_type": "stream",
     "text": [
      "['क', 'ख', 'ग', 'घ', 'ङ', 'च', 'छ', 'ज', 'झ', 'ञ', 'ट', 'ठ', 'ड', 'ढ', 'ण', 'त', 'थ', 'द', 'ध', 'न', 'प', 'फ', 'ब', 'भ', 'म', 'य', 'र', 'ल', 'व', 'श', 'ष', 'स', 'ह', 'ॠ', 'त्र', 'ज्ञ', '०', '१', '२', '३', '४', '५', '६', '७', '८', '९']\n"
     ]
    }
   ],
   "source": [
    "print(hindi_character)\n"
   ]
  },
  {
   "cell_type": "code",
   "execution_count": 10,
   "id": "6a7e026c-a976-47b8-bac8-950bdbbfd7dd",
   "metadata": {},
   "outputs": [],
   "source": [
    "hindi_font = FontProperties(fname='./hindi-font/Nirmala.ttf') # Hindi font to display in Matplotlib"
   ]
  },
  {
   "cell_type": "code",
   "execution_count": 11,
   "id": "89b960a5-7098-446a-982a-0f7721422c16",
   "metadata": {},
   "outputs": [
    {
     "name": "stdout",
     "output_type": "stream",
     "text": [
      "Train Path : ./DevanagariHandwrittenCharacterDataset_10_per_train_100_per_test/Train\n",
      "Test Path : ./DevanagariHandwrittenCharacterDataset_10_per_train_100_per_test/Test\n"
     ]
    }
   ],
   "source": [
    "dataset_path = \"./DevanagariHandwrittenCharacterDataset_10_per_train_100_per_test\"\n",
    "train_dataset_path = dataset_path+\"/Train\"\n",
    "test_dataset_path = dataset_path+\"/Test\"\n",
    "\n",
    "print(f\"Train Path : {train_dataset_path}\")\n",
    "print(f\"Test Path : {test_dataset_path}\")"
   ]
  },
  {
   "cell_type": "code",
   "execution_count": 12,
   "id": "d375118f-d23c-462f-adbe-b860e6ba0243",
   "metadata": {},
   "outputs": [],
   "source": [
    "def see_random_picture(target_dir , class_name):\n",
    "    target_directory = target_dir + '/' + class_name                    # Example --> Train + '/' + character_1_ka  -->  Train/character_1_ka\n",
    "    random_picture_name = random.choice(os.listdir(target_directory))   # Selecting random image from Train/character_1_ka\n",
    "    image_path = target_directory + '/' + random_picture_name           # let say random image name is 10963.png , so final image path would be :                                                                      #                                                     Train/character_1_ka/10963.png\n",
    "    image = plt.imread(image_path) \n",
    "\n",
    "    hindi_char_name = hindi_character[class_names.index(class_name)]\n",
    "    hindi_font = FontProperties(fname='./hindi-font/Nirmala.ttf')\n",
    "    plt.figure(figsize=(2,2))\n",
    "    print(f\"Shape of image : {image.shape}\")  #  display the shape of the image.\n",
    "    plt.imshow(image , cmap='gray')\n",
    "    plt.title(f\"{class_name} - ({hindi_char_name})\",fontproperties=hindi_font)\n",
    "    plt.axis(\"off\")"
   ]
  },
  {
   "cell_type": "code",
   "execution_count": 13,
   "id": "70acb47a-bd34-4132-b677-b9c949358035",
   "metadata": {},
   "outputs": [
    {
     "name": "stdout",
     "output_type": "stream",
     "text": [
      "Shape of image : (32, 32)\n"
     ]
    },
    {
     "data": {
      "image/png": "[encoded data removed]",
      "text/plain": [
       "<Figure size 200x200 with 1 Axes>"
      ]
     },
     "metadata": {},
     "output_type": "display_data"
    }
   ],
   "source": [
    "# Let view any random character from train data\n",
    "see_random_picture(train_dataset_path,\n",
    "                   random.choice(class_names))"
   ]
  },
  {
   "cell_type": "code",
   "execution_count": 14,
   "id": "0e2ca51d-d3c8-4783-8128-5205d369dcd1",
   "metadata": {},
   "outputs": [],
   "source": [
    "def load_data_from_directory(directory, class_names, description=None):\n",
    "    all_images = []\n",
    "    all_labels = []\n",
    "\n",
    "    for class_name in tqdm(class_names,desc=description):\n",
    "        target_dir = directory + \"/\" + class_name\n",
    "        images = os.listdir(target_dir)\n",
    "\n",
    "        for img in images:\n",
    "            img_path = target_dir + \"/\" + img\n",
    "            img_arr = cv2.imread(img_path,0).flatten()\n",
    "            img_label = class_names.index(class_name)\n",
    "\n",
    "            all_images.append(img_arr.astype('float32'))\n",
    "            all_labels.append(img_label)\n",
    "\n",
    "    return np.array(all_images), np.array(all_labels)\n"
   ]
  },
  {
   "cell_type": "code",
   "execution_count": 15,
   "id": "a1acb125-e90e-4a02-b609-daff1dbd5d38",
   "metadata": {},
   "outputs": [
    {
     "data": {
      "application/vnd.jupyter.widget-view+json": {
       "model_id": "2fc9f57bbfb74ac4a2403ad97f6a8a62",
       "version_major": 2,
       "version_minor": 0
      },
      "text/plain": [
       "Loading train data...  :   0%|          | 0/46 [00:00<?, ?it/s]"
      ]
     },
     "metadata": {},
     "output_type": "display_data"
    },
    {
     "data": {
      "application/vnd.jupyter.widget-view+json": {
       "model_id": "dead1ddb75714ce0aea6fedcbec04632",
       "version_major": 2,
       "version_minor": 0
      },
      "text/plain": [
       "Loading test data...  :   0%|          | 0/46 [00:00<?, ?it/s]"
      ]
     },
     "metadata": {},
     "output_type": "display_data"
    }
   ],
   "source": [
    "X_train, y_train = load_data_from_directory(train_dataset_path,class_names,\"Loading train data...  \")\n",
    "X_test, y_test = load_data_from_directory(test_dataset_path,class_names,\"Loading test data...  \")"
   ]
  },
  {
   "cell_type": "code",
   "execution_count": 16,
   "id": "3bae1e48-e273-4c62-84ab-9ad72ffed98c",
   "metadata": {},
   "outputs": [
    {
     "data": {
      "text/plain": [
       "((7820, 1024), (13800, 1024))"
      ]
     },
     "execution_count": 16,
     "metadata": {},
     "output_type": "execute_result"
    }
   ],
   "source": [
    "X_train.shape, X_test.shape"
   ]
  },
  {
   "cell_type": "code",
   "execution_count": 17,
   "id": "f75bc5cf-3311-4a48-9104-a2dce4ec3dec",
   "metadata": {},
   "outputs": [
    {
     "data": {
      "text/plain": [
       "((7820,), (13800,))"
      ]
     },
     "execution_count": 17,
     "metadata": {},
     "output_type": "execute_result"
    }
   ],
   "source": [
    "y_train.shape, y_test.shape"
   ]
  },
  {
   "cell_type": "code",
   "execution_count": 18,
   "id": "fdd78195-1642-42b2-85fe-4e86df963b77",
   "metadata": {},
   "outputs": [
    {
     "data": {
      "image/png": "[encoded data removed]",
      "text/plain": [
       "<Figure size 1500x1500 with 25 Axes>"
      ]
     },
     "metadata": {},
     "output_type": "display_data"
    }
   ],
   "source": [
    "fig, ax = plt.subplots(5,5, figsize=(15,15))\n",
    "ax = ax.flatten()\n",
    "\n",
    "for i in range(25):\n",
    "    k = np.random.randint(0,len(X_train))\n",
    "    \n",
    "    img = X_train[k]\n",
    "    label = y_train[k]\n",
    "    \n",
    "    ax[i].imshow(img.reshape(32,32),cmap='gray')\n",
    "    ax[i].axis(False)\n",
    "    ax[i].set_title(hindi_character[label],fontproperties= hindi_font, fontsize=15)\n",
    "\n",
    "plt.show()"
   ]
  },
  {
   "cell_type": "markdown",
   "id": "f94246e7-b28d-4f02-b38c-a0f93cbb2554",
   "metadata": {},
   "source": [
    "FEATURE SCALING"
   ]
  },
  {
   "cell_type": "code",
   "execution_count": 19,
   "id": "84f587be-3433-4ca4-a9fd-3517fe83c7ac",
   "metadata": {},
   "outputs": [],
   "source": [
    "from sklearn.preprocessing import StandardScaler"
   ]
  },
  {
   "cell_type": "code",
   "execution_count": 20,
   "id": "c5712c33-128f-47c8-97ac-9f19bca228e9",
   "metadata": {},
   "outputs": [],
   "source": [
    "scaler = StandardScaler()\n",
    "X_train_scaled = scaler.fit_transform(X_train)\n",
    "X_test_scaled = scaler.transform(X_test)"
   ]
  },
  {
   "cell_type": "markdown",
   "id": "fa98fac1-e364-4678-a4b0-64799c7ba240",
   "metadata": {},
   "source": [
    "FEATURE SELECTION : PCA"
   ]
  },
  {
   "cell_type": "code",
   "execution_count": 21,
   "id": "1044371f-80c7-40f9-aa15-c71ed46810ef",
   "metadata": {},
   "outputs": [],
   "source": [
    "from sklearn.decomposition import PCA"
   ]
  },
  {
   "cell_type": "code",
   "execution_count": 22,
   "id": "dc4577f8-948d-42aa-a02a-e069b9df4683",
   "metadata": {},
   "outputs": [],
   "source": [
    "pca = PCA(n_components=0.98)  # Retain 98% of information\n",
    "X_train_pca = pca.fit_transform(X_train_scaled)\n",
    "X_test_pca = pca.transform(X_test_scaled)"
   ]
  },
  {
   "cell_type": "code",
   "execution_count": 23,
   "id": "69aa92cd-b37e-4ddf-a721-9622507bea37",
   "metadata": {},
   "outputs": [
    {
     "data": {
      "text/plain": [
       "((7820, 293), (13800, 293))"
      ]
     },
     "execution_count": 23,
     "metadata": {},
     "output_type": "execute_result"
    }
   ],
   "source": [
    "X_train_pca.shape, X_test_pca.shape"
   ]
  },
  {
   "cell_type": "code",
   "execution_count": 24,
   "id": "909d2637-262f-4de3-80eb-c28e679d47a5",
   "metadata": {},
   "outputs": [
    {
     "data": {
      "text/plain": [
       "293"
      ]
     },
     "execution_count": 24,
     "metadata": {},
     "output_type": "execute_result"
    }
   ],
   "source": [
    "pca.n_components_"
   ]
  },
  {
   "cell_type": "markdown",
   "id": "28b8fa74-3277-4f5e-946a-b7d8bb8ab9e8",
   "metadata": {},
   "source": [
    "MODEL-1 : Decicion Tree Classifier"
   ]
  },
  {
   "cell_type": "code",
   "execution_count": 1,
   "id": "844da1aa-3f67-40f4-ad35-2a735a63e806",
   "metadata": {},
   "outputs": [
    {
     "name": "stdout",
     "output_type": "stream",
     "text": [
      "Decision Tree Classifier Accuracy: 1.0\n"
     ]
    }
   ],
   "source": [
    "# Importing necessary libraries\n",
    "from sklearn.datasets import load_iris\n",
    "from sklearn.model_selection import train_test_split\n",
    "from sklearn.tree import DecisionTreeClassifier\n",
    "from sklearn.metrics import accuracy_score\n",
    "\n",
    "# Loading the Iris dataset\n",
    "iris = load_iris()\n",
    "X = iris.data\n",
    "y = iris.target\n",
    "\n",
    "# Splitting the dataset into training and testing sets\n",
    "X_train, X_test, y_train, y_test = train_test_split(X, y, test_size=0.2, random_state=42)\n",
    "\n",
    "# Initializing the Decision Tree Classifier\n",
    "decision_tree = DecisionTreeClassifier()\n",
    "\n",
    "# Training the Decision Tree Classifier model\n",
    "decision_tree.fit(X_train, y_train)\n",
    "\n",
    "# Making predictions on the testing set\n",
    "y_pred = decision_tree.predict(X_test)\n",
    "\n",
    "# Calculating the accuracy of the model\n",
    "accuracy = accuracy_score(y_test, y_pred)\n",
    "print(\"Decision Tree Classifier Accuracy:\", accuracy)\n"
   ]
  },
  {
   "cell_type": "markdown",
   "id": "8de86c41-5b83-4545-8d02-43b9e19d5144",
   "metadata": {},
   "source": [
    "HYPERPARAMETER TUNING"
   ]
  },
  {
   "cell_type": "code",
   "execution_count": 2,
   "id": "c80805c3-a6ca-4371-87c8-7e3f2a9e389f",
   "metadata": {},
   "outputs": [
    {
     "name": "stderr",
     "output_type": "stream",
     "text": [
      "[I 2024-02-24 09:55:12,829] A new study created in memory with name: no-name-fc6a800f-6d6f-4859-a6c7-9f31437550a0\n",
      "[I 2024-02-24 09:55:12,841] Trial 0 finished with value: 0.9166666666666667 and parameters: {'criterion': 'entropy', 'max_depth': 9, 'min_samples_split': 4, 'min_samples_leaf': 9}. Best is trial 0 with value: 0.9166666666666667.\n",
      "[I 2024-02-24 09:55:12,856] Trial 1 finished with value: 0.9166666666666667 and parameters: {'criterion': 'gini', 'max_depth': 12, 'min_samples_split': 17, 'min_samples_leaf': 9}. Best is trial 0 with value: 0.9166666666666667.\n",
      "[I 2024-02-24 09:55:12,883] Trial 2 finished with value: 0.95 and parameters: {'criterion': 'gini', 'max_depth': 7, 'min_samples_split': 18, 'min_samples_leaf': 4}. Best is trial 2 with value: 0.95.\n",
      "[I 2024-02-24 09:55:12,946] Trial 3 finished with value: 0.9166666666666667 and parameters: {'criterion': 'gini', 'max_depth': 9, 'min_samples_split': 16, 'min_samples_leaf': 10}. Best is trial 2 with value: 0.95.\n",
      "[I 2024-02-24 09:55:12,996] Trial 4 finished with value: 0.9 and parameters: {'criterion': 'entropy', 'max_depth': 13, 'min_samples_split': 7, 'min_samples_leaf': 7}. Best is trial 2 with value: 0.95.\n",
      "[I 2024-02-24 09:55:13,021] Trial 5 finished with value: 0.9166666666666667 and parameters: {'criterion': 'gini', 'max_depth': 7, 'min_samples_split': 18, 'min_samples_leaf': 8}. Best is trial 2 with value: 0.95.\n",
      "[I 2024-02-24 09:55:13,041] Trial 6 finished with value: 0.9166666666666667 and parameters: {'criterion': 'entropy', 'max_depth': 4, 'min_samples_split': 20, 'min_samples_leaf': 6}. Best is trial 2 with value: 0.95.\n",
      "[I 2024-02-24 09:55:13,065] Trial 7 finished with value: 0.9333333333333333 and parameters: {'criterion': 'gini', 'max_depth': 6, 'min_samples_split': 18, 'min_samples_leaf': 2}. Best is trial 2 with value: 0.95.\n",
      "[I 2024-02-24 09:55:13,088] Trial 8 finished with value: 0.9333333333333333 and parameters: {'criterion': 'entropy', 'max_depth': 3, 'min_samples_split': 2, 'min_samples_leaf': 2}. Best is trial 2 with value: 0.95.\n",
      "[I 2024-02-24 09:55:13,096] Trial 9 finished with value: 0.95 and parameters: {'criterion': 'gini', 'max_depth': 12, 'min_samples_split': 15, 'min_samples_leaf': 3}. Best is trial 2 with value: 0.95.\n",
      "[I 2024-02-24 09:55:13,161] Trial 10 finished with value: 0.95 and parameters: {'criterion': 'gini', 'max_depth': 6, 'min_samples_split': 12, 'min_samples_leaf': 4}. Best is trial 2 with value: 0.95.\n",
      "[I 2024-02-24 09:55:13,205] Trial 11 finished with value: 0.95 and parameters: {'criterion': 'gini', 'max_depth': 15, 'min_samples_split': 13, 'min_samples_leaf': 4}. Best is trial 2 with value: 0.95.\n",
      "[I 2024-02-24 09:55:13,241] Trial 12 finished with value: 0.95 and parameters: {'criterion': 'gini', 'max_depth': 12, 'min_samples_split': 14, 'min_samples_leaf': 4}. Best is trial 2 with value: 0.95.\n",
      "[I 2024-02-24 09:55:13,279] Trial 13 finished with value: 0.9333333333333333 and parameters: {'criterion': 'gini', 'max_depth': 10, 'min_samples_split': 9, 'min_samples_leaf': 1}. Best is trial 2 with value: 0.95.\n",
      "[I 2024-02-24 09:55:13,317] Trial 14 finished with value: 0.95 and parameters: {'criterion': 'gini', 'max_depth': 10, 'min_samples_split': 15, 'min_samples_leaf': 5}. Best is trial 2 with value: 0.95.\n",
      "[I 2024-02-24 09:55:13,357] Trial 15 finished with value: 0.95 and parameters: {'criterion': 'gini', 'max_depth': 15, 'min_samples_split': 10, 'min_samples_leaf': 3}. Best is trial 2 with value: 0.95.\n",
      "[I 2024-02-24 09:55:13,392] Trial 16 finished with value: 0.9166666666666667 and parameters: {'criterion': 'gini', 'max_depth': 7, 'min_samples_split': 20, 'min_samples_leaf': 6}. Best is trial 2 with value: 0.95.\n",
      "[I 2024-02-24 09:55:13,430] Trial 17 finished with value: 0.9333333333333333 and parameters: {'criterion': 'gini', 'max_depth': 13, 'min_samples_split': 14, 'min_samples_leaf': 1}. Best is trial 2 with value: 0.95.\n",
      "[I 2024-02-24 09:55:13,471] Trial 18 finished with value: 0.95 and parameters: {'criterion': 'entropy', 'max_depth': 11, 'min_samples_split': 11, 'min_samples_leaf': 3}. Best is trial 2 with value: 0.95.\n",
      "[I 2024-02-24 09:55:13,514] Trial 19 finished with value: 0.95 and parameters: {'criterion': 'gini', 'max_depth': 8, 'min_samples_split': 8, 'min_samples_leaf': 5}. Best is trial 2 with value: 0.95.\n",
      "[I 2024-02-24 09:55:13,556] Trial 20 finished with value: 0.95 and parameters: {'criterion': 'gini', 'max_depth': 5, 'min_samples_split': 18, 'min_samples_leaf': 3}. Best is trial 2 with value: 0.95.\n",
      "[I 2024-02-24 09:55:13,590] Trial 21 finished with value: 0.95 and parameters: {'criterion': 'gini', 'max_depth': 6, 'min_samples_split': 12, 'min_samples_leaf': 4}. Best is trial 2 with value: 0.95.\n",
      "[I 2024-02-24 09:55:13,627] Trial 22 finished with value: 0.95 and parameters: {'criterion': 'gini', 'max_depth': 5, 'min_samples_split': 16, 'min_samples_leaf': 4}. Best is trial 2 with value: 0.95.\n",
      "[I 2024-02-24 09:55:13,660] Trial 23 finished with value: 0.9333333333333333 and parameters: {'criterion': 'gini', 'max_depth': 8, 'min_samples_split': 12, 'min_samples_leaf': 2}. Best is trial 2 with value: 0.95.\n",
      "[I 2024-02-24 09:55:13,705] Trial 24 finished with value: 0.95 and parameters: {'criterion': 'gini', 'max_depth': 7, 'min_samples_split': 15, 'min_samples_leaf': 5}. Best is trial 2 with value: 0.95.\n",
      "[I 2024-02-24 09:55:13,740] Trial 25 finished with value: 0.95 and parameters: {'criterion': 'gini', 'max_depth': 3, 'min_samples_split': 6, 'min_samples_leaf': 3}. Best is trial 2 with value: 0.95.\n",
      "[I 2024-02-24 09:55:13,777] Trial 26 finished with value: 0.9083333333333334 and parameters: {'criterion': 'entropy', 'max_depth': 5, 'min_samples_split': 13, 'min_samples_leaf': 6}. Best is trial 2 with value: 0.95.\n",
      "[I 2024-02-24 09:55:13,814] Trial 27 finished with value: 0.9166666666666667 and parameters: {'criterion': 'gini', 'max_depth': 8, 'min_samples_split': 10, 'min_samples_leaf': 7}. Best is trial 2 with value: 0.95.\n",
      "[I 2024-02-24 09:55:13,850] Trial 28 finished with value: 0.9333333333333333 and parameters: {'criterion': 'gini', 'max_depth': 6, 'min_samples_split': 19, 'min_samples_leaf': 2}. Best is trial 2 with value: 0.95.\n",
      "[I 2024-02-24 09:55:13,890] Trial 29 finished with value: 0.95 and parameters: {'criterion': 'entropy', 'max_depth': 10, 'min_samples_split': 16, 'min_samples_leaf': 4}. Best is trial 2 with value: 0.95.\n",
      "[I 2024-02-24 09:55:13,926] Trial 30 finished with value: 0.95 and parameters: {'criterion': 'gini', 'max_depth': 14, 'min_samples_split': 14, 'min_samples_leaf': 5}. Best is trial 2 with value: 0.95.\n",
      "[I 2024-02-24 09:55:13,965] Trial 31 finished with value: 0.95 and parameters: {'criterion': 'gini', 'max_depth': 15, 'min_samples_split': 12, 'min_samples_leaf': 4}. Best is trial 2 with value: 0.95.\n",
      "[I 2024-02-24 09:55:14,001] Trial 32 finished with value: 0.95 and parameters: {'criterion': 'gini', 'max_depth': 14, 'min_samples_split': 13, 'min_samples_leaf': 3}. Best is trial 2 with value: 0.95.\n",
      "[I 2024-02-24 09:55:14,040] Trial 33 finished with value: 0.95 and parameters: {'criterion': 'gini', 'max_depth': 12, 'min_samples_split': 17, 'min_samples_leaf': 4}. Best is trial 2 with value: 0.95.\n",
      "[I 2024-02-24 09:55:14,078] Trial 34 finished with value: 0.95 and parameters: {'criterion': 'gini', 'max_depth': 14, 'min_samples_split': 15, 'min_samples_leaf': 5}. Best is trial 2 with value: 0.95.\n",
      "[I 2024-02-24 09:55:14,114] Trial 35 finished with value: 0.95 and parameters: {'criterion': 'gini', 'max_depth': 9, 'min_samples_split': 17, 'min_samples_leaf': 3}. Best is trial 2 with value: 0.95.\n",
      "[I 2024-02-24 09:55:14,156] Trial 36 finished with value: 0.9166666666666667 and parameters: {'criterion': 'gini', 'max_depth': 11, 'min_samples_split': 11, 'min_samples_leaf': 7}. Best is trial 2 with value: 0.95.\n",
      "[I 2024-02-24 09:55:14,198] Trial 37 finished with value: 0.9166666666666667 and parameters: {'criterion': 'entropy', 'max_depth': 13, 'min_samples_split': 13, 'min_samples_leaf': 10}. Best is trial 2 with value: 0.95.\n",
      "[I 2024-02-24 09:55:14,241] Trial 38 finished with value: 0.9333333333333333 and parameters: {'criterion': 'gini', 'max_depth': 9, 'min_samples_split': 19, 'min_samples_leaf': 2}. Best is trial 2 with value: 0.95.\n",
      "[I 2024-02-24 09:55:14,279] Trial 39 finished with value: 0.9166666666666667 and parameters: {'criterion': 'gini', 'max_depth': 4, 'min_samples_split': 6, 'min_samples_leaf': 9}. Best is trial 2 with value: 0.95.\n",
      "[I 2024-02-24 09:55:14,323] Trial 40 finished with value: 0.95 and parameters: {'criterion': 'entropy', 'max_depth': 15, 'min_samples_split': 18, 'min_samples_leaf': 4}. Best is trial 2 with value: 0.95.\n",
      "[I 2024-02-24 09:55:14,361] Trial 41 finished with value: 0.95 and parameters: {'criterion': 'gini', 'max_depth': 12, 'min_samples_split': 14, 'min_samples_leaf': 4}. Best is trial 2 with value: 0.95.\n",
      "[I 2024-02-24 09:55:14,396] Trial 42 finished with value: 0.95 and parameters: {'criterion': 'gini', 'max_depth': 12, 'min_samples_split': 16, 'min_samples_leaf': 5}. Best is trial 2 with value: 0.95.\n",
      "[I 2024-02-24 09:55:14,445] Trial 43 finished with value: 0.95 and parameters: {'criterion': 'gini', 'max_depth': 11, 'min_samples_split': 15, 'min_samples_leaf': 3}. Best is trial 2 with value: 0.95.\n",
      "[I 2024-02-24 09:55:14,488] Trial 44 finished with value: 0.95 and parameters: {'criterion': 'gini', 'max_depth': 7, 'min_samples_split': 13, 'min_samples_leaf': 4}. Best is trial 2 with value: 0.95.\n",
      "[I 2024-02-24 09:55:14,528] Trial 45 finished with value: 0.9166666666666667 and parameters: {'criterion': 'gini', 'max_depth': 13, 'min_samples_split': 10, 'min_samples_leaf': 6}. Best is trial 2 with value: 0.95.\n",
      "[I 2024-02-24 09:55:14,562] Trial 46 finished with value: 0.9333333333333333 and parameters: {'criterion': 'gini', 'max_depth': 10, 'min_samples_split': 14, 'min_samples_leaf': 2}. Best is trial 2 with value: 0.95.\n",
      "[I 2024-02-24 09:55:14,606] Trial 47 finished with value: 0.9333333333333333 and parameters: {'criterion': 'gini', 'max_depth': 8, 'min_samples_split': 12, 'min_samples_leaf': 1}. Best is trial 2 with value: 0.95.\n",
      "[I 2024-02-24 09:55:14,658] Trial 48 finished with value: 0.95 and parameters: {'criterion': 'gini', 'max_depth': 13, 'min_samples_split': 17, 'min_samples_leaf': 3}. Best is trial 2 with value: 0.95.\n",
      "[I 2024-02-24 09:55:14,706] Trial 49 finished with value: 0.95 and parameters: {'criterion': 'entropy', 'max_depth': 7, 'min_samples_split': 9, 'min_samples_leaf': 5}. Best is trial 2 with value: 0.95.\n"
     ]
    },
    {
     "name": "stdout",
     "output_type": "stream",
     "text": [
      "Best Hyperparameters: {'criterion': 'gini', 'max_depth': 7, 'min_samples_split': 18, 'min_samples_leaf': 4}\n",
      "Final Model Accuracy: 100.00%\n"
     ]
    }
   ],
   "source": [
    "import optuna\n",
    "from sklearn.model_selection import cross_val_score\n",
    "from sklearn.tree import DecisionTreeClassifier\n",
    "from sklearn.metrics import accuracy_score\n",
    "\n",
    "def objective(trial):\n",
    "    # Define search space for hyperparameters\n",
    "    criterion = trial.suggest_categorical('criterion', ['gini', 'entropy'])\n",
    "    max_depth = trial.suggest_int('max_depth', 3, 15)\n",
    "    min_samples_split = trial.suggest_int('min_samples_split', 2, 20)\n",
    "    min_samples_leaf = trial.suggest_int('min_samples_leaf', 1, 10)\n",
    "\n",
    "    # Initialize Decision Tree Classifier with hyperparameters\n",
    "    decision_tree_classifier = DecisionTreeClassifier(\n",
    "        criterion=criterion,\n",
    "        max_depth=max_depth,\n",
    "        min_samples_split=min_samples_split,\n",
    "        min_samples_leaf=min_samples_leaf\n",
    "    )\n",
    "\n",
    "    # Use cross-validation for training and evaluation\n",
    "    cv_score = cross_val_score(decision_tree_classifier, X_train, y_train, cv=5, scoring='accuracy').mean()\n",
    "\n",
    "    return cv_score\n",
    "\n",
    "study = optuna.create_study(direction='maximize')\n",
    "study.optimize(objective, n_trials=50)\n",
    "\n",
    "# Get the best hyperparameters\n",
    "best_params = study.best_params\n",
    "print(\"Best Hyperparameters:\", best_params)\n",
    "\n",
    "# Initialize Decision Tree Classifier with best hyperparameters\n",
    "best_decision_tree_classifier = DecisionTreeClassifier(\n",
    "    criterion=best_params['criterion'],\n",
    "    max_depth=best_params['max_depth'],\n",
    "    min_samples_split=best_params['min_samples_split'],\n",
    "    min_samples_leaf=best_params['min_samples_leaf']\n",
    ")\n",
    "\n",
    "# Fit the best model on the training set\n",
    "best_decision_tree_classifier.fit(X_train, y_train)\n",
    "\n",
    "# Evaluate the performance on the test set\n",
    "y_pred = best_decision_tree_classifier.predict(X_test)\n",
    "accuracy = accuracy_score(y_test, y_pred)\n",
    "print(f\"Final Model Accuracy: {accuracy:.2%}\")\n"
   ]
  },
  {
   "cell_type": "code",
   "execution_count": 3,
   "id": "7da9a83a-2a49-4664-b3d6-a0259be71dd9",
   "metadata": {},
   "outputs": [],
   "source": [
    "import joblib"
   ]
  },
  {
   "cell_type": "code",
   "execution_count": 4,
   "id": "87512099-0eba-4160-b69c-627e3738bf78",
   "metadata": {},
   "outputs": [
    {
     "name": "stdout",
     "output_type": "stream",
     "text": [
      "Model saved successfully.\n"
     ]
    }
   ],
   "source": [
    "model_filename = 'decision_tree_classifier_model.pkl'\n",
    "\n",
    "# Save the model to a file\n",
    "joblib.dump(best_decision_tree_classifier, model_filename)\n",
    "\n",
    "print(\"Model saved successfully.\")"
   ]
  },
  {
   "cell_type": "code",
   "execution_count": 161,
   "id": "b688c776-e548-42f3-945c-f5b01c0b3d64",
   "metadata": {},
   "outputs": [
    {
     "data": {
      "text/plain": [
       "array([1, 0, 2, 1, 1, 0, 1, 2, 1, 1, 2, 0, 0, 0, 0, 1, 2, 1, 1, 2, 0, 2,\n",
       "       0, 2, 2, 2, 2, 2, 0, 0])"
      ]
     },
     "execution_count": 161,
     "metadata": {},
     "output_type": "execute_result"
    }
   ],
   "source": [
    "# Load the model from the file\n",
    "loaded_model = joblib.load(model_filename)\n",
    "\n",
    "# Use the loaded model for predictions\n",
    "loaded_model.predict(X_test)"
   ]
  },
  {
   "cell_type": "code",
   "execution_count": 162,
   "id": "3744f5d7-0775-4c57-b07c-066509d1f176",
   "metadata": {},
   "outputs": [
    {
     "name": "stdout",
     "output_type": "stream",
     "text": [
      "Accuracy of the loaded model: 100.00%\n"
     ]
    }
   ],
   "source": [
    "# Load the model from the file\n",
    "loaded_model = joblib.load(model_filename)  # Assuming you've used joblib for saving\n",
    "\n",
    "# Use the loaded model for predictions on the test set\n",
    "y_pred = loaded_model.predict(X_test)\n",
    "\n",
    "# Evaluate the performance of the loaded model\n",
    "accuracy = accuracy_score(y_test, y_pred)\n",
    "print(f\"Accuracy of the loaded model: {accuracy:.2%}\")"
   ]
  },
  {
   "cell_type": "code",
   "execution_count": 163,
   "id": "74ae95fa-908b-412e-abba-3283d9205cde",
   "metadata": {},
   "outputs": [
    {
     "data": {
      "image/png": "[encoded data removed]",
      "text/plain": [
       "<Figure size 800x600 with 1 Axes>"
      ]
     },
     "metadata": {},
     "output_type": "display_data"
    },
    {
     "name": "stdout",
     "output_type": "stream",
     "text": [
      "Accuracy of the model: 100.00%\n"
     ]
    }
   ],
   "source": [
    "import matplotlib.pyplot as plt\n",
    "import seaborn as sns\n",
    "from sklearn.metrics import confusion_matrix\n",
    "\n",
    "def pred_and_plot(model, X_test, y_test):\n",
    "    # Make predictions\n",
    "    y_pred = model.predict(X_test)\n",
    "\n",
    "    # Calculate confusion matrix\n",
    "    cm = confusion_matrix(y_test, y_pred)\n",
    "\n",
    "    # Plot confusion matrix\n",
    "    plt.figure(figsize=(8, 6))\n",
    "    sns.heatmap(cm, annot=True, fmt='d', cmap='Blues', cbar=False)\n",
    "    plt.xlabel('Predicted labels')\n",
    "    plt.ylabel('True labels')\n",
    "    plt.title('Confusion Matrix')\n",
    "    plt.show()\n",
    "\n",
    "    # Calculate and print accuracy\n",
    "    accuracy = accuracy_score(y_test, y_pred)\n",
    "    print(f\"Accuracy of the model: {accuracy:.2%}\")\n",
    "\n",
    "# Call the function to test and plot results\n",
    "pred_and_plot(best_decision_tree_classifier, X_test, y_test)"
   ]
  },
  {
   "cell_type": "code",
   "execution_count": 167,
   "id": "d0860997-67d0-470f-889f-52afa8e37d32",
   "metadata": {},
   "outputs": [],
   "source": [
    "test_img_1 = \"./DevanagariHandwrittenCharacterDataset_10_per_train_100_per_test/Test/character_28_la/11430.png\"\n",
    "test_img_2 = \"./DevanagariHandwrittenCharacterDataset_10_per_train_100_per_test/Test/character_21_pa/11115.png\""
   ]
  },
  {
   "cell_type": "code",
   "execution_count": 168,
   "id": "c0b9928d-ee78-454a-9b19-194696bb1016",
   "metadata": {},
   "outputs": [
    {
     "data": {
      "image/png": "[encoded data removed]",
      "text/plain": [
       "<Figure size 640x480 with 1 Axes>"
      ]
     },
     "metadata": {},
     "output_type": "display_data"
    }
   ],
   "source": [
    "single_image_prediction(test_img_1,best_svc_classifier)"
   ]
  },
  {
   "cell_type": "code",
   "execution_count": 169,
   "id": "eaeda60d-a828-4cd3-a3b6-240a5c38581c",
   "metadata": {},
   "outputs": [
    {
     "data": {
      "image/png": "[encoded data removed]",
      "text/plain": [
       "<Figure size 640x480 with 1 Axes>"
      ]
     },
     "metadata": {},
     "output_type": "display_data"
    }
   ],
   "source": [
    "single_image_prediction(test_img_2,best_svc_classifier)"
   ]
  }
 ],
 "metadata": {
  "kernelspec": {
   "display_name": "Python 3 (ipykernel)",
   "language": "python",
   "name": "python3"
  },
  "language_info": {
   "codemirror_mode": {
    "name": "ipython",
    "version": 3
   },
   "file_extension": ".py",
   "mimetype": "text/x-python",
   "name": "python",
   "nbconvert_exporter": "python",
   "pygments_lexer": "ipython3",
   "version": "3.12.1"
  }
 },
 "nbformat": 4,
 "nbformat_minor": 5
}
