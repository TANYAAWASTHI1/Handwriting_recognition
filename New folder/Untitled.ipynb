{
 "cells": [
  {
   "cell_type": "code",
   "execution_count": 1,
   "id": "524acdfd-d2b5-4f01-bce9-dac51233413c",
   "metadata": {},
   "outputs": [],
   "source": [
    "import matplotlib"
   ]
  },
  {
   "cell_type": "code",
   "execution_count": 2,
   "id": "03aa76d9-6600-4b95-b078-f562c6f852e1",
   "metadata": {},
   "outputs": [],
   "source": [
    "import pandas"
   ]
  },
  {
   "cell_type": "code",
   "execution_count": 3,
   "id": "5e74e395-5761-44c4-a667-8a72a24f60cd",
   "metadata": {},
   "outputs": [
    {
     "name": "stdout",
     "output_type": "stream",
     "text": [
      "Requirement already satisfied: numpy in c:\\users\\hp\\appdata\\local\\programs\\python\\python312\\lib\\site-packages (1.26.3)\n"
     ]
    },
    {
     "name": "stderr",
     "output_type": "stream",
     "text": [
      "\n",
      "[notice] A new release of pip is available: 23.3.2 -> 24.0\n",
      "[notice] To update, run: python.exe -m pip install --upgrade pip\n"
     ]
    }
   ],
   "source": [
    "!pip install numpy\n"
   ]
  },
  {
   "cell_type": "code",
   "execution_count": 4,
   "id": "0072206e-0295-4d04-bd73-0b157bee8f1e",
   "metadata": {},
   "outputs": [],
   "source": [
    "import numpy\n"
   ]
  },
  {
   "cell_type": "code",
   "execution_count": 5,
   "id": "1aec0f68-6acc-4ba9-8307-963eb4df5ac0",
   "metadata": {},
   "outputs": [],
   "source": [
    "import sklearn"
   ]
  },
  {
   "cell_type": "code",
   "execution_count": 6,
   "id": "9e69dcd1-8743-4370-8a1f-ea8cc43bf4db",
   "metadata": {},
   "outputs": [],
   "source": [
    "import os\n"
   ]
  },
  {
   "cell_type": "code",
   "execution_count": 7,
   "id": "413ceb12-73a0-4e94-8625-9967b317881b",
   "metadata": {},
   "outputs": [],
   "source": [
    "import random\n"
   ]
  },
  {
   "cell_type": "code",
   "execution_count": 8,
   "id": "8acaca7f-a7f9-44e5-824e-9147c7d561fd",
   "metadata": {},
   "outputs": [],
   "source": [
    "import shutil\n"
   ]
  },
  {
   "cell_type": "code",
   "execution_count": 9,
   "id": "a4c1ecd0-9fb4-4184-90bd-e816df21db97",
   "metadata": {},
   "outputs": [
    {
     "name": "stdout",
     "output_type": "stream",
     "text": [
      "Requirement already satisfied: tqdm in c:\\users\\hp\\appdata\\local\\programs\\python\\python312\\lib\\site-packages (4.66.1)\n",
      "Requirement already satisfied: colorama in c:\\users\\hp\\appdata\\local\\programs\\python\\python312\\lib\\site-packages (from tqdm) (0.4.6)\n",
      "Note: you may need to restart the kernel to use updated packages.\n"
     ]
    },
    {
     "name": "stderr",
     "output_type": "stream",
     "text": [
      "\n",
      "[notice] A new release of pip is available: 23.3.2 -> 24.0\n",
      "[notice] To update, run: python.exe -m pip install --upgrade pip\n"
     ]
    }
   ],
   "source": [
    "pip install tqdm"
   ]
  },
  {
   "cell_type": "code",
   "execution_count": 10,
   "id": "860ab40e-ccb6-47ec-b917-3c73b4df1803",
   "metadata": {},
   "outputs": [],
   "source": [
    "from tqdm.notebook import tqdm"
   ]
  },
  {
   "cell_type": "code",
   "execution_count": 11,
   "id": "19e138fc-b4d5-4479-ab93-0b8e865a50e7",
   "metadata": {},
   "outputs": [],
   "source": [
    "import numpy as np\n",
    "import pandas as pd\n",
    "import matplotlib.pyplot as plt\n",
    "from sklearn.linear_model import LogisticRegression\n",
    "from sklearn.model_selection import train_test_split\n",
    "from sklearn.metrics import accuracy_score"
   ]
  },
  {
   "cell_type": "code",
   "execution_count": 12,
   "id": "33c570f9-5eb3-45e7-9026-7bf601e2113e",
   "metadata": {},
   "outputs": [
    {
     "name": "stdout",
     "output_type": "stream",
     "text": [
      "['character_10_yna', 'character_11_taamatar', 'character_12_thaa', 'character_13_daa', 'character_14_dhaa', 'character_15_adna', 'character_16_tabala', 'character_17_tha', 'character_18_da', 'character_19_dha', 'character_1_ka', 'character_20_na', 'character_21_pa', 'character_22_pha', 'character_23_ba', 'character_24_bha', 'character_25_ma', 'character_26_yaw', 'character_27_ra', 'character_28_la', 'character_29_waw', 'character_2_kha', 'character_30_motosaw', 'character_31_petchiryakha', 'character_32_patalosaw', 'character_33_ha', 'character_34_chhya', 'character_35_tra', 'character_36_gya', 'character_3_ga', 'character_4_gha', 'character_5_kna', 'character_6_cha', 'character_7_chha', 'character_8_ja', 'character_9_jha', 'digit_0', 'digit_1', 'digit_2', 'digit_3', 'digit_4', 'digit_5', 'digit_6', 'digit_7', 'digit_8', 'digit_9']\n",
      "0\n"
     ]
    }
   ],
   "source": [
    "import os\n",
    "\n",
    "path = \"DevanagariHandwrittenCharacterDataset/Train/\"\n",
    "files = os.listdir(path)[:46]\n",
    "print(files)\n",
    "\n",
    "classes={'character_1_ka':0,'character_2_kha':1,'character_3_ga':2,'character_4_gha':3,'character_5_kna':4,'character_6_cha':5,'character_7_chha':6,'character_8_ja':7,'character_9_jha':8,'character_10_yna':9,'character_11_taamatar':10,'character_12_thaa':11,'character_13_daa':12,'character_14_dhaa':13,'character_15_adna':14,'character_16_tabala':15,'character_17_tha':16,'character_18_da':17,'character_19_dha':18,'character_20_na':19,'character_21_pa':20,'character_22_pha':21,'character_23_ba':22,'character_24_bha':23,'character_25_ma':24,'character_26_yaw':25,'character_27_ra':26,'character_28_la':27,'character_29_waw':28,'character_30_motosaw':29,'character_31_petchiryakha':30,'character_32_patalosaw':31,'character_33_ha':32,'character_34_chhya':33,'character_35_tra':34,'character_36_gya':35,'digit_0':36,'digit_1':37,'digit_2':38,'digit_3':39,'digit_4':40,'digit_5':41,'digit_6':42,'digit_7':43,'digit_8':44,'digit_9':45}\n",
    "print(classes['character_1_ka'])"
   ]
  },
  {
   "cell_type": "code",
   "execution_count": null,
   "id": "73216281-aa9a-423b-81d1-93a28951e47b",
   "metadata": {},
   "outputs": [],
   "source": [
    "import cv2\n",
    "X=[]\n",
    "Y=[]\n",
    "# loop in dictionary\n",
    "for cl in classes:  \n",
    "    # print(cl)\n",
    "    pth = path+cl\n",
    "    # print(pth)\n",
    "    for img_name in os.listdir(pth):\n",
    "        # print(img_name)\n",
    "        img=cv2.imread(pth+\"/\"+img_name,0)\n",
    "        X.append(img)\n",
    "        # print(cl)\n",
    "        Y.append(classes[cl])\n",
    "print(\"dataset created successfully\")"
   ]
  },
  {
   "cell_type": "code",
   "execution_count": null,
   "id": "432b81bb-43ae-4c75-8b6e-16aa702ab39c",
   "metadata": {},
   "outputs": [],
   "source": [
    "pd.Series(Y).value_counts()"
   ]
  },
  {
   "cell_type": "code",
   "execution_count": null,
   "id": "db864211-25bc-42ed-bff0-77ff828dee0b",
   "metadata": {},
   "outputs": [],
   "source": [
    "X[0].shape"
   ]
  },
  {
   "cell_type": "code",
   "execution_count": null,
   "id": "1d03c502-4db1-44a1-a20b-d49756158097",
   "metadata": {},
   "outputs": [],
   "source": [
    "print(type(X))\n",
    "X=np.array(X)\n",
    "Y=np.array(Y)\n",
    "print(type(X))"
   ]
  },
  {
   "cell_type": "code",
   "execution_count": null,
   "id": "8cb5615d-691e-4244-9251-ab4b153a8336",
   "metadata": {},
   "outputs": [],
   "source": [
    "# ANALYZE DATA\n",
    "\n",
    "plt.imshow(X[1000],cmap=\"gray\")\n",
    "print(Y[1000])\n"
   ]
  },
  {
   "cell_type": "code",
   "execution_count": null,
   "id": "4e99c5ea-e613-4c65-8ceb-4e6c411b5cc1",
   "metadata": {},
   "outputs": [],
   "source": [
    "X.shape"
   ]
  },
  {
   "cell_type": "markdown",
   "id": "8cee4b74-01e0-4ce7-8bef-31ba02302e74",
   "metadata": {},
   "source": [
    "PREPARE DATA"
   ]
  },
  {
   "cell_type": "code",
   "execution_count": null,
   "id": "58aa748a-758d-4749-9112-3bce7a9748a8",
   "metadata": {},
   "outputs": [],
   "source": [
    "X_new=X.reshape(len(X),-1)\n",
    "print(X_new.shape)\n",
    "print(Y.shape)\n",
    "\n",
    "#machine learning works on 2D not 3d\n",
    "#no of features =784\n",
    "#no of samples= 5100"
   ]
  },
  {
   "cell_type": "code",
   "execution_count": null,
   "id": "072da025-99ba-49d0-a18f-3af3bcb57b68",
   "metadata": {},
   "outputs": [],
   "source": [
    "28*28"
   ]
  },
  {
   "cell_type": "code",
   "execution_count": null,
   "id": "0e53dd10-4c21-4797-8a68-134a667ba375",
   "metadata": {},
   "outputs": [],
   "source": [
    "print(X.shape)\n",
    "print(X.ndim)\n",
    "print(X_new.ndim)"
   ]
  },
  {
   "cell_type": "markdown",
   "id": "ef74dc74-da0a-4363-8e0a-2ec4a008dc03",
   "metadata": {},
   "source": [
    "SPLIT DATA"
   ]
  },
  {
   "cell_type": "code",
   "execution_count": null,
   "id": "72bb070d-b1da-427d-a9da-edc320afc557",
   "metadata": {},
   "outputs": [],
   "source": [
    "# 20% data for testing and 80% data for training\n",
    "xtrain,xtest,ytrain,ytest= train_test_split(X_new,Y,test_size=.20,random_state=10)"
   ]
  },
  {
   "cell_type": "code",
   "execution_count": null,
   "id": "79bf29a2-a3a7-47e5-9f90-390c293478d6",
   "metadata": {},
   "outputs": [],
   "source": [
    "print(xtrain.shape,ytrain.shape)\n",
    "print(xtest.shape,ytest.shape)"
   ]
  },
  {
   "cell_type": "markdown",
   "id": "f2c39293-1af2-434e-a597-9a7fb4614795",
   "metadata": {},
   "source": [
    "FEATURE SCALING"
   ]
  },
  {
   "cell_type": "code",
   "execution_count": null,
   "id": "ff11ac25-07ee-4e9c-9c2a-e26b4d8e6b34",
   "metadata": {},
   "outputs": [],
   "source": [
    "print(xtrain.max())\n",
    "print(xtest.max())\n",
    "x_train=xtrain/255\n",
    "x_test=xtest/255\n",
    "print(x_train.max())\n",
    "print(x_test.max())"
   ]
  },
  {
   "cell_type": "markdown",
   "id": "11920b41-5904-46b8-aff4-86fccf7fb1bc",
   "metadata": {},
   "source": [
    "FEATURE SELECTION: PCA"
   ]
  },
  {
   "cell_type": "code",
   "execution_count": null,
   "id": "64a151bc-9093-489b-a910-7ea6b9710289",
   "metadata": {},
   "outputs": [],
   "source": [
    "from sklearn.decomposition import PCA"
   ]
  },
  {
   "cell_type": "code",
   "execution_count": null,
   "id": "b59431f8-bc01-40a3-b68c-ca73217dac3a",
   "metadata": {},
   "outputs": [],
   "source": [
    "print(x_train.shape, x_test.shape)\n",
    "pca=PCA(n_components=.98)\n",
    "xtrain=pca.fit_transform(x_train)\n",
    "xtest=pca.transform(x_test)\n",
    "print(xtrain.shape,xtest.shape)\n",
    "print(pca.n_components)\n",
    "print(pca.n_features)\n",
    "print(x_train.shape[1])"
   ]
  },
  {
   "cell_type": "code",
   "execution_count": null,
   "id": "cc451ee3-740f-48bc-980a-130bea270986",
   "metadata": {},
   "outputs": [],
   "source": [
    "ytest[:10]"
   ]
  },
  {
   "cell_type": "markdown",
   "id": "f06453bf-bb3b-4fe2-8686-c889a8f20f21",
   "metadata": {},
   "source": [
    "TRAIN MODEL"
   ]
  },
  {
   "cell_type": "code",
   "execution_count": null,
   "id": "86dc172a-a88c-4f9e-9071-e92a17ef1d43",
   "metadata": {},
   "outputs": [],
   "source": [
    "log=LogisticRegression()\n",
    "log.fit(xtrain,ytrain)"
   ]
  },
  {
   "cell_type": "markdown",
   "id": "9e6ce162-a97c-46d4-8957-a944f1dc7d6a",
   "metadata": {},
   "source": [
    "PREDICTION"
   ]
  },
  {
   "cell_type": "code",
   "execution_count": null,
   "id": "01e393bb-a30a-46f3-9fed-6810278cc662",
   "metadata": {},
   "outputs": [],
   "source": [
    "tr_pred=log.predict(xtrain)\n",
    "ts_pred=log.predict(xtest)"
   ]
  },
  {
   "cell_type": "markdown",
   "id": "537ec875-32f8-4149-b659-5becb73827cd",
   "metadata": {},
   "source": [
    "EVALUATION"
   ]
  },
  {
   "cell_type": "code",
   "execution_count": null,
   "id": "2856a8a4-9580-47ca-a724-80e8bc63f3f5",
   "metadata": {},
   "outputs": [],
   "source": [
    "print(\"Training Score\", accuracy_score(ytrain,tr_pred))\n",
    "print(\"Testing Score\", accuracy_score(ytest,ts_pred))"
   ]
  },
  {
   "cell_type": "code",
   "execution_count": null,
   "id": "70d5ab67-95bd-4f9e-96ff-0ef38e7bb3a7",
   "metadata": {},
   "outputs": [],
   "source": [
    "plt.imshow(x_test[0].reshape(32,32), cmap='gray')\n",
    "print(ytest[0])"
   ]
  },
  {
   "cell_type": "markdown",
   "id": "cde9a40e-5558-483c-ac14-f6f698a085f1",
   "metadata": {},
   "source": [
    "TEST MODEL"
   ]
  },
  {
   "cell_type": "code",
   "execution_count": null,
   "id": "f3575574-fda1-4c48-9aee-ac8d5f621be5",
   "metadata": {},
   "outputs": [],
   "source": [
    "decode={0:'charcter_1_ka',1:'charcter_2_kha',2:'charcter_1_ga'}\n",
    "for i in range(9):\n",
    "    plt.subplot(3,3,i+1)\n",
    "    plt.imshow(x_test[i].reshape(32,32),cmap='gray')\n",
    "    plt.title(decode[ts_pred[i]])\n",
    "    plt.axis('off')"
   ]
  },
  {
   "cell_type": "code",
   "execution_count": null,
   "id": "e61680a4-a839-4115-95ff-e102aa877d71",
   "metadata": {},
   "outputs": [],
   "source": [
    "decode={0:'charcter_1_ka',1:'charcter_2_kha',2:'charcter_1_ga',3:'character_4_gha',4:'character_5_kna',5:'character_6_cha',6:'character_7_chha',7:'character_8_ja',8:'character_9_jha',9:'character_10_yna',10:'character_11_taamatar',11:'character_12_thaa',12:'character_13_daa',13:'character_14_dhaa',14:'character_15_adna',15:'character_16_tabala',16:'character_17_tha',17:'character_18_da',18:'character_19_dha',19:'character_20_na',20:'character_21_pa',21:'character_22_pha',22:'character_23_ba',23:'character_24_bha',24:'character_25_ma',25:'character_26_yaw',26:'character_27_ra',27:'character_28_la',28:'character_29_waw',29:'character_30_motosaw',30:'character_31_petchiryakha',31:'character_32_patalosaw',32:'character_33_ha',33:'character_34_chhya',34:'character_35_tra',35:'character_36_gya',36:'digit_0',37:'digit_1',38:'digit_2',39:'digit_3',40:'digit_4',41:'digit_5',42:'digit_6',43:'digit_7',44:'digit_8',45:'digit_9'}\n",
    "for i in range(2025):\n",
    "    plt.subplot(45,45,i+1)\n",
    "    plt.imshow(x_test[i].reshape(32,32),cmap='gray')\n",
    "    plt.title(decode[ts_pred[i]])\n",
    "    plt.axis('off')"
   ]
  },
  {
   "cell_type": "code",
   "execution_count": null,
   "id": "f3659f14-d9f7-4f39-bf94-9c5e2afc5a82",
   "metadata": {},
   "outputs": [],
   "source": [
    "np.where(ts_pred!=ytest)\n",
    "d= pd.DataFrame({'Actual' : ytest, 'Prediction':ts_pred})\n",
    "d[d['Actual']!=d['Prediction']]"
   ]
  },
  {
   "cell_type": "markdown",
   "id": "d1e2e788-e3f1-4b38-91c4-c1cfb5ad2583",
   "metadata": {},
   "source": [
    "TEST MODEL ON REAL DATA"
   ]
  },
  {
   "cell_type": "code",
   "execution_count": null,
   "id": "3aa3b4d2-2d78-4213-9e3b-6330f78a5f88",
   "metadata": {},
   "outputs": [],
   "source": [
    "import cv2\n",
    "from matplotlib import pyplot as plt\n",
    "\n",
    "               "
   ]
  },
  {
   "cell_type": "code",
   "execution_count": null,
   "id": "d471c26b-949e-409c-a765-df2e508b689e",
   "metadata": {},
   "outputs": [],
   "source": [
    "img=cv2.resize(cv2.imread('1339.png',0),(32,32))\n",
    "plt.imshow(img,cmap='gray')"
   ]
  },
  {
   "cell_type": "code",
   "execution_count": null,
   "id": "b3a858f0-4040-4e69-9885-6c724faf0c1a",
   "metadata": {},
   "outputs": [],
   "source": [
    "img=pca.transform(img.reshape(1,-1)/255)\n",
    "\n",
    "                  "
   ]
  },
  {
   "cell_type": "code",
   "execution_count": null,
   "id": "d4e8fc03-505b-4baa-ad3e-6fa3b30121cf",
   "metadata": {},
   "outputs": [],
   "source": [
    "decode[log.predict(img)[0]]\n"
   ]
  },
  {
   "cell_type": "code",
   "execution_count": null,
   "id": "f46270a9-a1ae-4694-96be-57db54a55436",
   "metadata": {},
   "outputs": [],
   "source": []
  }
 ],
 "metadata": {
  "kernelspec": {
   "display_name": "Python 3 (ipykernel)",
   "language": "python",
   "name": "python3"
  },
  "language_info": {
   "codemirror_mode": {
    "name": "ipython",
    "version": 3
   },
   "file_extension": ".py",
   "mimetype": "text/x-python",
   "name": "python",
   "nbconvert_exporter": "python",
   "pygments_lexer": "ipython3",
   "version": "3.12.1"
  }
 },
 "nbformat": 4,
 "nbformat_minor": 5
}
